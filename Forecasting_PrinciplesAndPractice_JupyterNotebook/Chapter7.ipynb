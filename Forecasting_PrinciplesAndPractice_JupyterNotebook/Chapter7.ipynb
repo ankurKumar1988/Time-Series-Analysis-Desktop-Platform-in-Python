{
 "cells": [
  {
   "cell_type": "markdown",
   "metadata": {},
   "source": [
    "# import and visualize oil data"
   ]
  },
  {
   "cell_type": "code",
   "execution_count": 21,
   "metadata": {
    "collapsed": true
   },
   "outputs": [],
   "source": [
    "import matplotlib.pyplot as plt\n",
    "%matplotlib inline\n",
    "import numpy as np\n",
    "import pandas as pd\n",
    "from scipy.optimize import minimize"
   ]
  },
  {
   "cell_type": "code",
   "execution_count": 22,
   "metadata": {},
   "outputs": [
    {
     "data": {
      "text/html": [
       "<div>\n",
       "<style>\n",
       "    .dataframe thead tr:only-child th {\n",
       "        text-align: right;\n",
       "    }\n",
       "\n",
       "    .dataframe thead th {\n",
       "        text-align: left;\n",
       "    }\n",
       "\n",
       "    .dataframe tbody tr th {\n",
       "        vertical-align: top;\n",
       "    }\n",
       "</style>\n",
       "<table border=\"1\" class=\"dataframe\">\n",
       "  <thead>\n",
       "    <tr style=\"text-align: right;\">\n",
       "      <th></th>\n",
       "      <th>OilProduction</th>\n",
       "    </tr>\n",
       "  </thead>\n",
       "  <tbody>\n",
       "    <tr>\n",
       "      <th>1965</th>\n",
       "      <td>111.009135</td>\n",
       "    </tr>\n",
       "    <tr>\n",
       "      <th>1966</th>\n",
       "      <td>130.828434</td>\n",
       "    </tr>\n",
       "    <tr>\n",
       "      <th>1967</th>\n",
       "      <td>141.287088</td>\n",
       "    </tr>\n",
       "    <tr>\n",
       "      <th>1968</th>\n",
       "      <td>154.227775</td>\n",
       "    </tr>\n",
       "    <tr>\n",
       "      <th>1969</th>\n",
       "      <td>162.740865</td>\n",
       "    </tr>\n",
       "  </tbody>\n",
       "</table>\n",
       "</div>"
      ],
      "text/plain": [
       "      OilProduction\n",
       "1965     111.009135\n",
       "1966     130.828434\n",
       "1967     141.287088\n",
       "1968     154.227775\n",
       "1969     162.740865"
      ]
     },
     "execution_count": 22,
     "metadata": {},
     "output_type": "execute_result"
    }
   ],
   "source": [
    "oildata = pd.read_csv('oil.csv',sep=',',header=0,index_col=0)\n",
    "oildata.head()"
   ]
  },
  {
   "cell_type": "code",
   "execution_count": 23,
   "metadata": {},
   "outputs": [
    {
     "data": {
      "text/plain": [
       "<matplotlib.figure.Figure at 0xbdad438>"
      ]
     },
     "metadata": {},
     "output_type": "display_data"
    },
    {
     "data": {
      "image/png": "[encoded data removed]",
      "text/plain": [
       "<matplotlib.figure.Figure at 0xc3f7390>"
      ]
     },
     "metadata": {},
     "output_type": "display_data"
    }
   ],
   "source": [
    "plt.figure();\n",
    "axes = oildata.plot();\n",
    "axes.set_xlabel('Year')\n",
    "axes.set_ylabel('Oil (millions of tonnes)')\n",
    "axes.set_title('Figure 7.1: Oil production in Saudi Arabia from 1965 to 2010');"
   ]
  },
  {
   "cell_type": "markdown",
   "metadata": {
    "collapsed": true
   },
   "source": [
    "# Reproduce plot in Figure 7.2"
   ]
  },
  {
   "cell_type": "raw",
   "metadata": {},
   "source": [
    "adjust=False specification in the ewm method ensures that weighted averages are calculated recursively as:\n",
    "\n",
    "weighted_average[0] = data[0]; weighted_average[i] = (1-alpha)*weighted_average[i-1] + alpha*data[i]."
   ]
  },
  {
   "cell_type": "code",
   "execution_count": 24,
   "metadata": {},
   "outputs": [
    {
     "data": {
      "text/html": [
       "<div>\n",
       "<style>\n",
       "    .dataframe thead tr:only-child th {\n",
       "        text-align: right;\n",
       "    }\n",
       "\n",
       "    .dataframe thead th {\n",
       "        text-align: left;\n",
       "    }\n",
       "\n",
       "    .dataframe tbody tr th {\n",
       "        vertical-align: top;\n",
       "    }\n",
       "</style>\n",
       "<table border=\"1\" class=\"dataframe\">\n",
       "  <thead>\n",
       "    <tr style=\"text-align: right;\">\n",
       "      <th></th>\n",
       "      <th>Observed values</th>\n",
       "      <th>alpha=0.2</th>\n",
       "      <th>alpha=0.6</th>\n",
       "    </tr>\n",
       "  </thead>\n",
       "  <tbody>\n",
       "    <tr>\n",
       "      <th>1996</th>\n",
       "      <td>446.656523</td>\n",
       "      <td>446.656523</td>\n",
       "      <td>446.656523</td>\n",
       "    </tr>\n",
       "    <tr>\n",
       "      <th>1997</th>\n",
       "      <td>454.473307</td>\n",
       "      <td>448.219880</td>\n",
       "      <td>451.346593</td>\n",
       "    </tr>\n",
       "    <tr>\n",
       "      <th>1998</th>\n",
       "      <td>455.662974</td>\n",
       "      <td>449.708498</td>\n",
       "      <td>453.936422</td>\n",
       "    </tr>\n",
       "    <tr>\n",
       "      <th>1999</th>\n",
       "      <td>423.632239</td>\n",
       "      <td>444.493247</td>\n",
       "      <td>435.753912</td>\n",
       "    </tr>\n",
       "    <tr>\n",
       "      <th>2000</th>\n",
       "      <td>456.271328</td>\n",
       "      <td>446.848863</td>\n",
       "      <td>448.064362</td>\n",
       "    </tr>\n",
       "    <tr>\n",
       "      <th>2001</th>\n",
       "      <td>440.588050</td>\n",
       "      <td>445.596700</td>\n",
       "      <td>443.578575</td>\n",
       "    </tr>\n",
       "    <tr>\n",
       "      <th>2002</th>\n",
       "      <td>425.332520</td>\n",
       "      <td>441.543864</td>\n",
       "      <td>432.630942</td>\n",
       "    </tr>\n",
       "    <tr>\n",
       "      <th>2003</th>\n",
       "      <td>485.149448</td>\n",
       "      <td>450.264981</td>\n",
       "      <td>464.142046</td>\n",
       "    </tr>\n",
       "    <tr>\n",
       "      <th>2004</th>\n",
       "      <td>506.048162</td>\n",
       "      <td>461.421617</td>\n",
       "      <td>489.285715</td>\n",
       "    </tr>\n",
       "    <tr>\n",
       "      <th>2005</th>\n",
       "      <td>526.791983</td>\n",
       "      <td>474.495690</td>\n",
       "      <td>511.789476</td>\n",
       "    </tr>\n",
       "    <tr>\n",
       "      <th>2006</th>\n",
       "      <td>514.268889</td>\n",
       "      <td>482.450330</td>\n",
       "      <td>513.277124</td>\n",
       "    </tr>\n",
       "    <tr>\n",
       "      <th>2007</th>\n",
       "      <td>494.211019</td>\n",
       "      <td>484.802468</td>\n",
       "      <td>501.837461</td>\n",
       "    </tr>\n",
       "  </tbody>\n",
       "</table>\n",
       "</div>"
      ],
      "text/plain": [
       "      Observed values   alpha=0.2   alpha=0.6\n",
       "1996       446.656523  446.656523  446.656523\n",
       "1997       454.473307  448.219880  451.346593\n",
       "1998       455.662974  449.708498  453.936422\n",
       "1999       423.632239  444.493247  435.753912\n",
       "2000       456.271328  446.848863  448.064362\n",
       "2001       440.588050  445.596700  443.578575\n",
       "2002       425.332520  441.543864  432.630942\n",
       "2003       485.149448  450.264981  464.142046\n",
       "2004       506.048162  461.421617  489.285715\n",
       "2005       526.791983  474.495690  511.789476\n",
       "2006       514.268889  482.450330  513.277124\n",
       "2007       494.211019  484.802468  501.837461"
      ]
     },
     "execution_count": 24,
     "metadata": {},
     "output_type": "execute_result"
    }
   ],
   "source": [
    "# extract data from 1996 to 2007 and perform SES\n",
    "trainOilData =  oildata.loc[1996:2007].rename(index=str, columns={\"OilProduction\": \"Observed values\"})\n",
    "fit1 = trainOilData.ewm(alpha=0.2,adjust=False).mean().rename(index=str, columns={\"Observed values\": \"alpha=0.2\"})\n",
    "fit2 = trainOilData.ewm(alpha=0.6,adjust=False).mean().rename(index=str, columns={\"Observed values\": \"alpha=0.6\"})\n",
    "combined = pd.concat([trainOilData,fit1,fit2],axis=1)\n",
    "combined\n"
   ]
  },
  {
   "cell_type": "code",
   "execution_count": 25,
   "metadata": {},
   "outputs": [
    {
     "name": "stdout",
     "output_type": "stream",
     "text": [
      "[ 447.47832041    0.8920028 ]\n"
     ]
    }
   ],
   "source": [
    "# optimal parameter estimation in scipy\n",
    "def func(x,y):\n",
    "    fit = np.zeros((y.size))\n",
    "    fit[0] = x[0]\n",
    "    obj = (fit[0]-y[0])*(fit[0]-y[0])\n",
    "    for i in range(1,y.size):\n",
    "        fit[i] = x[1]*y[i-1]+(1-x[1])*fit[i-1]\n",
    "        obj = obj + (fit[i]-y[i])*(fit[i]-y[i])\n",
    "    return obj\n",
    "\n",
    "bnds = ((0, 1000), (0, 1))\n",
    "res = minimize(func, [trainOilData.iloc[0,0],0.5],args=trainOilData.iloc[:,0].values,bounds=bnds, method='SLSQP', options={'disp': False})\n",
    "print(res.x)"
   ]
  },
  {
   "cell_type": "code",
   "execution_count": 26,
   "metadata": {},
   "outputs": [
    {
     "data": {
      "text/html": [
       "<div>\n",
       "<style>\n",
       "    .dataframe thead tr:only-child th {\n",
       "        text-align: right;\n",
       "    }\n",
       "\n",
       "    .dataframe thead th {\n",
       "        text-align: left;\n",
       "    }\n",
       "\n",
       "    .dataframe tbody tr th {\n",
       "        vertical-align: top;\n",
       "    }\n",
       "</style>\n",
       "<table border=\"1\" class=\"dataframe\">\n",
       "  <thead>\n",
       "    <tr style=\"text-align: right;\">\n",
       "      <th></th>\n",
       "      <th>Observed values</th>\n",
       "      <th>alpha=0.2</th>\n",
       "      <th>alpha=0.6</th>\n",
       "      <th>alpha=opt</th>\n",
       "    </tr>\n",
       "  </thead>\n",
       "  <tbody>\n",
       "    <tr>\n",
       "      <th>1996</th>\n",
       "      <td>446.656523</td>\n",
       "      <td>446.656523</td>\n",
       "      <td>446.656523</td>\n",
       "      <td>446.656523</td>\n",
       "    </tr>\n",
       "    <tr>\n",
       "      <th>1997</th>\n",
       "      <td>454.473307</td>\n",
       "      <td>448.219880</td>\n",
       "      <td>451.346593</td>\n",
       "      <td>453.629116</td>\n",
       "    </tr>\n",
       "    <tr>\n",
       "      <th>1998</th>\n",
       "      <td>455.662974</td>\n",
       "      <td>449.708498</td>\n",
       "      <td>453.936422</td>\n",
       "      <td>455.443323</td>\n",
       "    </tr>\n",
       "    <tr>\n",
       "      <th>1999</th>\n",
       "      <td>423.632239</td>\n",
       "      <td>444.493247</td>\n",
       "      <td>435.753912</td>\n",
       "      <td>427.067747</td>\n",
       "    </tr>\n",
       "    <tr>\n",
       "      <th>2000</th>\n",
       "      <td>456.271328</td>\n",
       "      <td>446.848863</td>\n",
       "      <td>448.064362</td>\n",
       "      <td>453.117423</td>\n",
       "    </tr>\n",
       "    <tr>\n",
       "      <th>2001</th>\n",
       "      <td>440.588050</td>\n",
       "      <td>445.596700</td>\n",
       "      <td>443.578575</td>\n",
       "      <td>441.941187</td>\n",
       "    </tr>\n",
       "    <tr>\n",
       "      <th>2002</th>\n",
       "      <td>425.332520</td>\n",
       "      <td>441.543864</td>\n",
       "      <td>432.630942</td>\n",
       "      <td>427.126210</td>\n",
       "    </tr>\n",
       "    <tr>\n",
       "      <th>2003</th>\n",
       "      <td>485.149448</td>\n",
       "      <td>450.264981</td>\n",
       "      <td>464.142046</td>\n",
       "      <td>478.883100</td>\n",
       "    </tr>\n",
       "    <tr>\n",
       "      <th>2004</th>\n",
       "      <td>506.048162</td>\n",
       "      <td>461.421617</td>\n",
       "      <td>489.285715</td>\n",
       "      <td>503.114411</td>\n",
       "    </tr>\n",
       "    <tr>\n",
       "      <th>2005</th>\n",
       "      <td>526.791983</td>\n",
       "      <td>474.495690</td>\n",
       "      <td>511.789476</td>\n",
       "      <td>524.234872</td>\n",
       "    </tr>\n",
       "    <tr>\n",
       "      <th>2006</th>\n",
       "      <td>514.268889</td>\n",
       "      <td>482.450330</td>\n",
       "      <td>513.277124</td>\n",
       "      <td>515.345187</td>\n",
       "    </tr>\n",
       "    <tr>\n",
       "      <th>2007</th>\n",
       "      <td>494.211019</td>\n",
       "      <td>484.802468</td>\n",
       "      <td>501.837461</td>\n",
       "      <td>496.493450</td>\n",
       "    </tr>\n",
       "  </tbody>\n",
       "</table>\n",
       "</div>"
      ],
      "text/plain": [
       "      Observed values   alpha=0.2   alpha=0.6   alpha=opt\n",
       "1996       446.656523  446.656523  446.656523  446.656523\n",
       "1997       454.473307  448.219880  451.346593  453.629116\n",
       "1998       455.662974  449.708498  453.936422  455.443323\n",
       "1999       423.632239  444.493247  435.753912  427.067747\n",
       "2000       456.271328  446.848863  448.064362  453.117423\n",
       "2001       440.588050  445.596700  443.578575  441.941187\n",
       "2002       425.332520  441.543864  432.630942  427.126210\n",
       "2003       485.149448  450.264981  464.142046  478.883100\n",
       "2004       506.048162  461.421617  489.285715  503.114411\n",
       "2005       526.791983  474.495690  511.789476  524.234872\n",
       "2006       514.268889  482.450330  513.277124  515.345187\n",
       "2007       494.211019  484.802468  501.837461  496.493450"
      ]
     },
     "execution_count": 26,
     "metadata": {},
     "output_type": "execute_result"
    }
   ],
   "source": [
    "# fit using optimal alpha\n",
    "fit_opt = trainOilData.ewm(alpha=res.x[1],adjust=False).mean().rename(index=str, columns={\"Observed values\": \"alpha=opt\"})\n",
    "combined = pd.concat([trainOilData,fit1,fit2,fit_opt],axis=1)\n",
    "combined"
   ]
  },
  {
   "cell_type": "code",
   "execution_count": 27,
   "metadata": {},
   "outputs": [
    {
     "data": {
      "image/png": "[encoded data removed]",
      "text/plain": [
       "<matplotlib.figure.Figure at 0xbf05588>"
      ]
     },
     "metadata": {},
     "output_type": "display_data"
    }
   ],
   "source": [
    "# plot graphs\n",
    "fig, axes = plt.subplots()\n",
    "axes.plot(trainOilData.index,trainOilData,color='black',label='data')\n",
    "axes.plot(fit1.index,fit1,color='blue',label='alpha=0.2')\n",
    "axes.plot(fit2.index,fit2,color='red',label='alpha=0.6')\n",
    "axes.plot(fit_opt.index,fit_opt,color='green',label='alpha=opt')\n",
    "axes.set_xlabel('Year')\n",
    "axes.set_ylabel('Oil (millions of tonnes)')\n",
    "axes.legend();"
   ]
  },
  {
   "cell_type": "raw",
   "metadata": {},
   "source": [
    "Note that the plot for alpha = 0.89 is not correct in the book.\n",
    "For instance, for the year 2004, the smoothed level is the graph is around 480 while the correct value in the table is 503.1."
   ]
  },
  {
   "cell_type": "markdown",
   "metadata": {},
   "source": [
    "# Reproduce Holt's linear trend method data in Table 7.3"
   ]
  },
  {
   "cell_type": "code",
   "execution_count": 38,
   "metadata": {
    "scrolled": true
   },
   "outputs": [
    {
     "data": {
      "text/plain": [
       "array([[ 17.5534    ,  18.41474   ,  17.5534    ],\n",
       "       [ 21.8601    ,  21.8945536 ,  20.99876   ],\n",
       "       [ 23.8866    ,  24.20620374,  23.309032  ],\n",
       "       [ 26.9293    ,  27.05155717,  26.2052464 ],\n",
       "       [ 26.8885    ,  27.56842671,  26.75184928],\n",
       "       [ 28.8314    ,  29.11733235,  28.41548986],\n",
       "       [ 30.0751    ,  30.3763243 ,  29.74317797],\n",
       "       [ 30.9535    ,  31.2826468 ,  30.71143559],\n",
       "       [ 30.1857    ,  30.79700781,  30.29084712],\n",
       "       [ 31.5797    ,  31.71727076,  31.32192942],\n",
       "       [ 32.577569  ,  32.67760723,  32.32644108],\n",
       "       [ 33.477398  ,  33.57353161,  33.24720662],\n",
       "       [ 39.021581  ,  38.17268151,  37.86670612],\n",
       "       [ 41.386432  ,  41.12021621,  40.68248682],\n",
       "       [ 41.596552  ,  41.92041367,  41.41373896]])"
      ]
     },
     "execution_count": 38,
     "metadata": {},
     "output_type": "execute_result"
    }
   ],
   "source": [
    "alpha = 0.8\n",
    "beta_star = 0.2\n",
    "airdata = pd.read_csv('ausair.csv',sep=',',header=0,index_col=0).loc[1990:2004]\n",
    "air = airdata.iloc[:,0].values\n",
    "years = airdata.index.values\n",
    "\n",
    "# fit SES\n",
    "fitSES = np.zeros((air.size))\n",
    "fitSES[0] = air[0]\n",
    "for i in range(1,air.size):\n",
    "    fitSES[i] = alpha*air[i]+(1-alpha)*fitSES[i-1]\n",
    "    \n",
    "# fit Holt's linear trend method\n",
    "fitHolt = np.zeros((air.size))\n",
    "bt = np.zeros((air.size))\n",
    "yt = np.zeros((air.size))\n",
    "fitHolt_o = air[0] # note that level is plotted\n",
    "b_o = air[1]-air[0]\n",
    "yt[0] = fitHolt_o+b_o\n",
    "fitHolt[0] = alpha*air[0]+(1-alpha)*yt[0]\n",
    "bt[0] = beta_star*(fitHolt[0]-fitHolt_o)+(1-beta_star)*b_o\n",
    "for i in range(1,air.size):\n",
    "    yt[i] = fitHolt[i-1]+bt[i-1]\n",
    "    fitHolt[i] = alpha*air[i]+(1-alpha)*yt[i]\n",
    "    bt[i] = beta_star*(fitHolt[i]-fitHolt[i-1])+(1-beta_star)*bt[i-1]\n",
    "\n",
    "# tabulate\n",
    "combined_SES_Holt = np.column_stack((air,fitHolt,fitSES))\n",
    "combined_SES_Holt"
   ]
  },
  {
   "cell_type": "code",
   "execution_count": 37,
   "metadata": {},
   "outputs": [
    {
     "data": {
      "text/plain": [
       "<matplotlib.legend.Legend at 0xf15f278>"
      ]
     },
     "execution_count": 37,
     "metadata": {},
     "output_type": "execute_result"
    },
    {
     "data": {
      "image/png": "[encoded data removed]",
      "text/plain": [
       "<matplotlib.figure.Figure at 0xef99f60>"
      ]
     },
     "metadata": {},
     "output_type": "display_data"
    }
   ],
   "source": [
    "# visualize\n",
    "plt.plot(years,air,color='black',label='air')\n",
    "plt.plot(years,fitSES,color='red',label='SES')\n",
    "plt.plot(years,fitHolt,color='blue',label='Holt linear trend')\n",
    "plt.legend(loc='best')"
   ]
  }
 ],
 "metadata": {
  "kernelspec": {
   "display_name": "Python 2",
   "language": "python",
   "name": "python2"
  },
  "language_info": {
   "codemirror_mode": {
    "name": "ipython",
    "version": 2
   },
   "file_extension": ".py",
   "mimetype": "text/x-python",
   "name": "python",
   "nbconvert_exporter": "python",
   "pygments_lexer": "ipython2",
   "version": "2.7.14"
  }
 },
 "nbformat": 4,
 "nbformat_minor": 2
}
