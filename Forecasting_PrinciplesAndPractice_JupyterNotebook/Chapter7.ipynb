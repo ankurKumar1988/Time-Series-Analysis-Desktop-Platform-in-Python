{
 "cells": [
  {
   "cell_type": "markdown",
   "metadata": {},
   "source": [
    "# import and visualize oil data"
   ]
  },
  {
   "cell_type": "code",
   "execution_count": 4,
   "metadata": {
    "collapsed": true
   },
   "outputs": [],
   "source": [
    "import matplotlib.pyplot as plt\n",
    "%matplotlib inline\n",
    "import numpy as np\n",
    "import pandas as pd"
   ]
  },
  {
   "cell_type": "code",
   "execution_count": 5,
   "metadata": {},
   "outputs": [
    {
     "data": {
      "text/html": [
       "<div>\n",
       "<style>\n",
       "    .dataframe thead tr:only-child th {\n",
       "        text-align: right;\n",
       "    }\n",
       "\n",
       "    .dataframe thead th {\n",
       "        text-align: left;\n",
       "    }\n",
       "\n",
       "    .dataframe tbody tr th {\n",
       "        vertical-align: top;\n",
       "    }\n",
       "</style>\n",
       "<table border=\"1\" class=\"dataframe\">\n",
       "  <thead>\n",
       "    <tr style=\"text-align: right;\">\n",
       "      <th></th>\n",
       "      <th>OilProduction</th>\n",
       "    </tr>\n",
       "  </thead>\n",
       "  <tbody>\n",
       "    <tr>\n",
       "      <th>1965</th>\n",
       "      <td>111.009135</td>\n",
       "    </tr>\n",
       "    <tr>\n",
       "      <th>1966</th>\n",
       "      <td>130.828434</td>\n",
       "    </tr>\n",
       "    <tr>\n",
       "      <th>1967</th>\n",
       "      <td>141.287088</td>\n",
       "    </tr>\n",
       "    <tr>\n",
       "      <th>1968</th>\n",
       "      <td>154.227775</td>\n",
       "    </tr>\n",
       "    <tr>\n",
       "      <th>1969</th>\n",
       "      <td>162.740865</td>\n",
       "    </tr>\n",
       "  </tbody>\n",
       "</table>\n",
       "</div>"
      ],
      "text/plain": [
       "      OilProduction\n",
       "1965     111.009135\n",
       "1966     130.828434\n",
       "1967     141.287088\n",
       "1968     154.227775\n",
       "1969     162.740865"
      ]
     },
     "execution_count": 5,
     "metadata": {},
     "output_type": "execute_result"
    }
   ],
   "source": [
    "oildata = pd.read_csv('oil.csv',sep=',',header=0,index_col=0)\n",
    "oildata.head()"
   ]
  },
  {
   "cell_type": "code",
   "execution_count": 6,
   "metadata": {},
   "outputs": [
    {
     "data": {
      "text/plain": [
       "<matplotlib.figure.Figure at 0xb696240>"
      ]
     },
     "metadata": {},
     "output_type": "display_data"
    },
    {
     "data": {
      "image/png": "[encoded data removed]",
      "text/plain": [
       "<matplotlib.figure.Figure at 0xb6966a0>"
      ]
     },
     "metadata": {},
     "output_type": "display_data"
    }
   ],
   "source": [
    "plt.figure();\n",
    "axes = oildata.plot();\n",
    "axes.set_xlabel('Year')\n",
    "axes.set_ylabel('Oil (millions of tonnes)')\n",
    "axes.set_title('Figure 7.1: Oil production in Saudi Arabia from 1965 to 2010');"
   ]
  },
  {
   "cell_type": "markdown",
   "metadata": {
    "collapsed": true
   },
   "source": [
    "# Reproduce plot in Figure 7.2"
   ]
  },
  {
   "cell_type": "markdown",
   "metadata": {},
   "source": [
    "adjust=False specification in the ewm method ensures that weighted averages are calculated recursively as:\n",
    "\n",
    "weighted_average[0] = data[0]; weighted_average[i] = (1-alpha)*weighted_average[i-1] + alpha*data[i]."
   ]
  },
  {
   "cell_type": "code",
   "execution_count": 22,
   "metadata": {},
   "outputs": [
    {
     "data": {
      "text/html": [
       "<div>\n",
       "<style>\n",
       "    .dataframe thead tr:only-child th {\n",
       "        text-align: right;\n",
       "    }\n",
       "\n",
       "    .dataframe thead th {\n",
       "        text-align: left;\n",
       "    }\n",
       "\n",
       "    .dataframe tbody tr th {\n",
       "        vertical-align: top;\n",
       "    }\n",
       "</style>\n",
       "<table border=\"1\" class=\"dataframe\">\n",
       "  <thead>\n",
       "    <tr style=\"text-align: right;\">\n",
       "      <th></th>\n",
       "      <th>Observed values</th>\n",
       "      <th>alpha=0.2</th>\n",
       "      <th>alpha=0.6</th>\n",
       "    </tr>\n",
       "  </thead>\n",
       "  <tbody>\n",
       "    <tr>\n",
       "      <th>1996</th>\n",
       "      <td>446.656523</td>\n",
       "      <td>446.656523</td>\n",
       "      <td>446.656523</td>\n",
       "    </tr>\n",
       "    <tr>\n",
       "      <th>1997</th>\n",
       "      <td>454.473307</td>\n",
       "      <td>448.219880</td>\n",
       "      <td>451.346593</td>\n",
       "    </tr>\n",
       "    <tr>\n",
       "      <th>1998</th>\n",
       "      <td>455.662974</td>\n",
       "      <td>449.708498</td>\n",
       "      <td>453.936422</td>\n",
       "    </tr>\n",
       "    <tr>\n",
       "      <th>1999</th>\n",
       "      <td>423.632239</td>\n",
       "      <td>444.493247</td>\n",
       "      <td>435.753912</td>\n",
       "    </tr>\n",
       "    <tr>\n",
       "      <th>2000</th>\n",
       "      <td>456.271328</td>\n",
       "      <td>446.848863</td>\n",
       "      <td>448.064362</td>\n",
       "    </tr>\n",
       "    <tr>\n",
       "      <th>2001</th>\n",
       "      <td>440.588050</td>\n",
       "      <td>445.596700</td>\n",
       "      <td>443.578575</td>\n",
       "    </tr>\n",
       "    <tr>\n",
       "      <th>2002</th>\n",
       "      <td>425.332520</td>\n",
       "      <td>441.543864</td>\n",
       "      <td>432.630942</td>\n",
       "    </tr>\n",
       "    <tr>\n",
       "      <th>2003</th>\n",
       "      <td>485.149448</td>\n",
       "      <td>450.264981</td>\n",
       "      <td>464.142046</td>\n",
       "    </tr>\n",
       "    <tr>\n",
       "      <th>2004</th>\n",
       "      <td>506.048162</td>\n",
       "      <td>461.421617</td>\n",
       "      <td>489.285715</td>\n",
       "    </tr>\n",
       "    <tr>\n",
       "      <th>2005</th>\n",
       "      <td>526.791983</td>\n",
       "      <td>474.495690</td>\n",
       "      <td>511.789476</td>\n",
       "    </tr>\n",
       "    <tr>\n",
       "      <th>2006</th>\n",
       "      <td>514.268889</td>\n",
       "      <td>482.450330</td>\n",
       "      <td>513.277124</td>\n",
       "    </tr>\n",
       "    <tr>\n",
       "      <th>2007</th>\n",
       "      <td>494.211019</td>\n",
       "      <td>484.802468</td>\n",
       "      <td>501.837461</td>\n",
       "    </tr>\n",
       "  </tbody>\n",
       "</table>\n",
       "</div>"
      ],
      "text/plain": [
       "      Observed values   alpha=0.2   alpha=0.6\n",
       "1996       446.656523  446.656523  446.656523\n",
       "1997       454.473307  448.219880  451.346593\n",
       "1998       455.662974  449.708498  453.936422\n",
       "1999       423.632239  444.493247  435.753912\n",
       "2000       456.271328  446.848863  448.064362\n",
       "2001       440.588050  445.596700  443.578575\n",
       "2002       425.332520  441.543864  432.630942\n",
       "2003       485.149448  450.264981  464.142046\n",
       "2004       506.048162  461.421617  489.285715\n",
       "2005       526.791983  474.495690  511.789476\n",
       "2006       514.268889  482.450330  513.277124\n",
       "2007       494.211019  484.802468  501.837461"
      ]
     },
     "execution_count": 22,
     "metadata": {},
     "output_type": "execute_result"
    }
   ],
   "source": [
    "# extract data from 1996 to 2007 and perform SES\n",
    "trainOilData =  oildata.loc[1996:2007].rename(index=str, columns={\"OilProduction\": \"Observed values\"})\n",
    "fit1 = trainOilData.ewm(alpha=0.2,adjust=False).mean().rename(index=str, columns={\"Observed values\": \"alpha=0.2\"})\n",
    "fit2 = trainOilData.ewm(alpha=0.6,adjust=False).mean().rename(index=str, columns={\"Observed values\": \"alpha=0.6\"})\n",
    "combined = pd.concat([trainOilData,fit1,fit2],axis=1)\n",
    "combined\n"
   ]
  },
  {
   "cell_type": "code",
   "execution_count": 23,
   "metadata": {},
   "outputs": [
    {
     "data": {
      "image/png": "[encoded data removed]",
      "text/plain": [
       "<matplotlib.figure.Figure at 0xb9ad2b0>"
      ]
     },
     "metadata": {},
     "output_type": "display_data"
    }
   ],
   "source": [
    "# plot graphs\n",
    "fig, axes = plt.subplots()\n",
    "axes.plot(trainOilData.index,trainOilData,color='black',label='data')\n",
    "axes.plot(fit1.index,fit1,color='blue',label='alpha=0.2')\n",
    "axes.plot(fit2.index,fit2,color='red',label='alpha=0.6')\n",
    "axes.set_xlabel('Year')\n",
    "axes.set_ylabel('Oil (millions of tonnes)')\n",
    "axes.legend();"
   ]
  }
 ],
 "metadata": {
  "kernelspec": {
   "display_name": "Python 2",
   "language": "python",
   "name": "python2"
  },
  "language_info": {
   "codemirror_mode": {
    "name": "ipython",
    "version": 2
   },
   "file_extension": ".py",
   "mimetype": "text/x-python",
   "name": "python",
   "nbconvert_exporter": "python",
   "pygments_lexer": "ipython2",
   "version": "2.7.14"
  }
 },
 "nbformat": 4,
 "nbformat_minor": 2
}
