{
 "cells": [
  {
   "cell_type": "markdown",
   "metadata": {},
   "source": [
    "# Moving Averages"
   ]
  },
  {
   "cell_type": "code",
   "execution_count": 13,
   "metadata": {
    "collapsed": true
   },
   "outputs": [],
   "source": [
    "%matplotlib inline\n",
    "import numpy as np\n",
    "import pandas as pd\n",
    "import matplotlib\n",
    "import matplotlib.pyplot as plt"
   ]
  },
  {
   "cell_type": "code",
   "execution_count": 17,
   "metadata": {},
   "outputs": [
    {
     "data": {
      "text/html": [
       "<div>\n",
       "<style>\n",
       "    .dataframe thead tr:only-child th {\n",
       "        text-align: right;\n",
       "    }\n",
       "\n",
       "    .dataframe thead th {\n",
       "        text-align: left;\n",
       "    }\n",
       "\n",
       "    .dataframe tbody tr th {\n",
       "        vertical-align: top;\n",
       "    }\n",
       "</style>\n",
       "<table border=\"1\" class=\"dataframe\">\n",
       "  <thead>\n",
       "    <tr style=\"text-align: right;\">\n",
       "      <th></th>\n",
       "      <th>electricity sales</th>\n",
       "      <th>5-MA</th>\n",
       "    </tr>\n",
       "  </thead>\n",
       "  <tbody>\n",
       "    <tr>\n",
       "      <th>1989</th>\n",
       "      <td>2354.34</td>\n",
       "      <td>NaN</td>\n",
       "    </tr>\n",
       "    <tr>\n",
       "      <th>1990</th>\n",
       "      <td>2379.71</td>\n",
       "      <td>NaN</td>\n",
       "    </tr>\n",
       "    <tr>\n",
       "      <th>1991</th>\n",
       "      <td>2318.52</td>\n",
       "      <td>2381.530</td>\n",
       "    </tr>\n",
       "    <tr>\n",
       "      <th>1992</th>\n",
       "      <td>2468.99</td>\n",
       "      <td>2424.556</td>\n",
       "    </tr>\n",
       "    <tr>\n",
       "      <th>1993</th>\n",
       "      <td>2386.09</td>\n",
       "      <td>2463.758</td>\n",
       "    </tr>\n",
       "    <tr>\n",
       "      <th>1994</th>\n",
       "      <td>2569.47</td>\n",
       "      <td>2552.598</td>\n",
       "    </tr>\n",
       "    <tr>\n",
       "      <th>1995</th>\n",
       "      <td>2575.72</td>\n",
       "      <td>2627.700</td>\n",
       "    </tr>\n",
       "    <tr>\n",
       "      <th>1996</th>\n",
       "      <td>2762.72</td>\n",
       "      <td>2750.622</td>\n",
       "    </tr>\n",
       "    <tr>\n",
       "      <th>1997</th>\n",
       "      <td>2844.50</td>\n",
       "      <td>2858.348</td>\n",
       "    </tr>\n",
       "    <tr>\n",
       "      <th>1998</th>\n",
       "      <td>3000.70</td>\n",
       "      <td>3014.704</td>\n",
       "    </tr>\n",
       "    <tr>\n",
       "      <th>1999</th>\n",
       "      <td>3108.10</td>\n",
       "      <td>3077.300</td>\n",
       "    </tr>\n",
       "    <tr>\n",
       "      <th>2000</th>\n",
       "      <td>3357.50</td>\n",
       "      <td>3144.520</td>\n",
       "    </tr>\n",
       "    <tr>\n",
       "      <th>2001</th>\n",
       "      <td>3075.70</td>\n",
       "      <td>3188.700</td>\n",
       "    </tr>\n",
       "    <tr>\n",
       "      <th>2002</th>\n",
       "      <td>3180.60</td>\n",
       "      <td>3202.320</td>\n",
       "    </tr>\n",
       "    <tr>\n",
       "      <th>2003</th>\n",
       "      <td>3221.60</td>\n",
       "      <td>3216.940</td>\n",
       "    </tr>\n",
       "    <tr>\n",
       "      <th>2004</th>\n",
       "      <td>3176.20</td>\n",
       "      <td>3307.296</td>\n",
       "    </tr>\n",
       "    <tr>\n",
       "      <th>2005</th>\n",
       "      <td>3430.60</td>\n",
       "      <td>3398.754</td>\n",
       "    </tr>\n",
       "    <tr>\n",
       "      <th>2006</th>\n",
       "      <td>3527.48</td>\n",
       "      <td>3485.434</td>\n",
       "    </tr>\n",
       "    <tr>\n",
       "      <th>2007</th>\n",
       "      <td>3637.89</td>\n",
       "      <td>NaN</td>\n",
       "    </tr>\n",
       "    <tr>\n",
       "      <th>2008</th>\n",
       "      <td>3655.00</td>\n",
       "      <td>NaN</td>\n",
       "    </tr>\n",
       "  </tbody>\n",
       "</table>\n",
       "</div>"
      ],
      "text/plain": [
       "      electricity sales      5-MA\n",
       "1989            2354.34       NaN\n",
       "1990            2379.71       NaN\n",
       "1991            2318.52  2381.530\n",
       "1992            2468.99  2424.556\n",
       "1993            2386.09  2463.758\n",
       "1994            2569.47  2552.598\n",
       "1995            2575.72  2627.700\n",
       "1996            2762.72  2750.622\n",
       "1997            2844.50  2858.348\n",
       "1998            3000.70  3014.704\n",
       "1999            3108.10  3077.300\n",
       "2000            3357.50  3144.520\n",
       "2001            3075.70  3188.700\n",
       "2002            3180.60  3202.320\n",
       "2003            3221.60  3216.940\n",
       "2004            3176.20  3307.296\n",
       "2005            3430.60  3398.754\n",
       "2006            3527.48  3485.434\n",
       "2007            3637.89       NaN\n",
       "2008            3655.00       NaN"
      ]
     },
     "execution_count": 17,
     "metadata": {},
     "output_type": "execute_result"
    }
   ],
   "source": [
    "# reproduce 5-MA data fro elecsales in Figure 6.7 \n",
    "elecsales = pd.read_csv('elecsales.csv',sep=',',header=0,index_col=0)\n",
    "elecsales_ma = elecsales.rolling(5,center=True).mean()\n",
    "elecsales_ma.rename(columns={'electricity sales':'5-MA'}, inplace=True)\n",
    "combined = pd.concat([elecsales,elecsales_ma],axis=1)\n",
    "combined"
   ]
  },
  {
   "cell_type": "code",
   "execution_count": 12,
   "metadata": {},
   "outputs": [
    {
     "data": {
      "image/png": "[encoded data removed]",
      "text/plain": [
       "<matplotlib.figure.Figure at 0xb88b4e0>"
      ]
     },
     "metadata": {},
     "output_type": "display_data"
    }
   ],
   "source": [
    "# visualize\n",
    "fig, axes = plt.subplots()\n",
    "axes.plot(elecsales.index,elecsales,color='black',label='data')\n",
    "axes.plot(elecsales_ma.index,elecsales_ma,color='red',label='5-MA')\n",
    "axes.set_xlabel('Year')\n",
    "axes.set_ylabel('GWh')\n",
    "axes.legend();"
   ]
  }
 ],
 "metadata": {
  "kernelspec": {
   "display_name": "Python 2",
   "language": "python",
   "name": "python2"
  },
  "language_info": {
   "codemirror_mode": {
    "name": "ipython",
    "version": 2
   },
   "file_extension": ".py",
   "mimetype": "text/x-python",
   "name": "python",
   "nbconvert_exporter": "python",
   "pygments_lexer": "ipython2",
   "version": "2.7.14"
  }
 },
 "nbformat": 4,
 "nbformat_minor": 2
}
